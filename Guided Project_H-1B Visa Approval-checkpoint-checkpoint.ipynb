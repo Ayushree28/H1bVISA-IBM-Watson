{
 "cells": [
  {
   "cell_type": "code",
   "execution_count": 1,
   "metadata": {},
   "outputs": [],
   "source": [
    "import numpy as np\n",
    "import pandas as pd\n",
    "import matplotlib.pyplot as plt"
   ]
  },
  {
   "cell_type": "code",
   "execution_count": 2,
   "metadata": {},
   "outputs": [],
   "source": [
    "df=pd.read_csv(\"h1b_kaggle.csv\")"
   ]
  },
  {
   "cell_type": "code",
   "execution_count": 3,
   "metadata": {},
   "outputs": [
    {
     "data": {
      "text/html": [
       "<div>\n",
       "<style scoped>\n",
       "    .dataframe tbody tr th:only-of-type {\n",
       "        vertical-align: middle;\n",
       "    }\n",
       "\n",
       "    .dataframe tbody tr th {\n",
       "        vertical-align: top;\n",
       "    }\n",
       "\n",
       "    .dataframe thead th {\n",
       "        text-align: right;\n",
       "    }\n",
       "</style>\n",
       "<table border=\"1\" class=\"dataframe\">\n",
       "  <thead>\n",
       "    <tr style=\"text-align: right;\">\n",
       "      <th></th>\n",
       "      <th>Unnamed: 0</th>\n",
       "      <th>CASE_STATUS</th>\n",
       "      <th>EMPLOYER_NAME</th>\n",
       "      <th>SOC_NAME</th>\n",
       "      <th>JOB_TITLE</th>\n",
       "      <th>FULL_TIME_POSITION</th>\n",
       "      <th>PREVAILING_WAGE</th>\n",
       "      <th>YEAR</th>\n",
       "      <th>WORKSITE</th>\n",
       "      <th>lon</th>\n",
       "      <th>lat</th>\n",
       "    </tr>\n",
       "  </thead>\n",
       "  <tbody>\n",
       "    <tr>\n",
       "      <th>0</th>\n",
       "      <td>1</td>\n",
       "      <td>CERTIFIED-WITHDRAWN</td>\n",
       "      <td>UNIVERSITY OF MICHIGAN</td>\n",
       "      <td>BIOCHEMISTS AND BIOPHYSICISTS</td>\n",
       "      <td>POSTDOCTORAL RESEARCH FELLOW</td>\n",
       "      <td>N</td>\n",
       "      <td>36067.0</td>\n",
       "      <td>2016.0</td>\n",
       "      <td>ANN ARBOR, MICHIGAN</td>\n",
       "      <td>-83.743038</td>\n",
       "      <td>42.280826</td>\n",
       "    </tr>\n",
       "    <tr>\n",
       "      <th>1</th>\n",
       "      <td>2</td>\n",
       "      <td>CERTIFIED-WITHDRAWN</td>\n",
       "      <td>GOODMAN NETWORKS, INC.</td>\n",
       "      <td>CHIEF EXECUTIVES</td>\n",
       "      <td>CHIEF OPERATING OFFICER</td>\n",
       "      <td>Y</td>\n",
       "      <td>242674.0</td>\n",
       "      <td>2016.0</td>\n",
       "      <td>PLANO, TEXAS</td>\n",
       "      <td>-96.698886</td>\n",
       "      <td>33.019843</td>\n",
       "    </tr>\n",
       "    <tr>\n",
       "      <th>2</th>\n",
       "      <td>3</td>\n",
       "      <td>CERTIFIED-WITHDRAWN</td>\n",
       "      <td>PORTS AMERICA GROUP, INC.</td>\n",
       "      <td>CHIEF EXECUTIVES</td>\n",
       "      <td>CHIEF PROCESS OFFICER</td>\n",
       "      <td>Y</td>\n",
       "      <td>193066.0</td>\n",
       "      <td>2016.0</td>\n",
       "      <td>JERSEY CITY, NEW JERSEY</td>\n",
       "      <td>-74.077642</td>\n",
       "      <td>40.728158</td>\n",
       "    </tr>\n",
       "    <tr>\n",
       "      <th>3</th>\n",
       "      <td>4</td>\n",
       "      <td>CERTIFIED-WITHDRAWN</td>\n",
       "      <td>GATES CORPORATION, A WHOLLY-OWNED SUBSIDIARY O...</td>\n",
       "      <td>CHIEF EXECUTIVES</td>\n",
       "      <td>REGIONAL PRESIDEN, AMERICAS</td>\n",
       "      <td>Y</td>\n",
       "      <td>220314.0</td>\n",
       "      <td>2016.0</td>\n",
       "      <td>DENVER, COLORADO</td>\n",
       "      <td>-104.990251</td>\n",
       "      <td>39.739236</td>\n",
       "    </tr>\n",
       "    <tr>\n",
       "      <th>4</th>\n",
       "      <td>5</td>\n",
       "      <td>WITHDRAWN</td>\n",
       "      <td>PEABODY INVESTMENTS CORP.</td>\n",
       "      <td>CHIEF EXECUTIVES</td>\n",
       "      <td>PRESIDENT MONGOLIA AND INDIA</td>\n",
       "      <td>Y</td>\n",
       "      <td>157518.4</td>\n",
       "      <td>2016.0</td>\n",
       "      <td>ST. LOUIS, MISSOURI</td>\n",
       "      <td>-90.199404</td>\n",
       "      <td>38.627003</td>\n",
       "    </tr>\n",
       "  </tbody>\n",
       "</table>\n",
       "</div>"
      ],
      "text/plain": [
       "   Unnamed: 0          CASE_STATUS  \\\n",
       "0           1  CERTIFIED-WITHDRAWN   \n",
       "1           2  CERTIFIED-WITHDRAWN   \n",
       "2           3  CERTIFIED-WITHDRAWN   \n",
       "3           4  CERTIFIED-WITHDRAWN   \n",
       "4           5            WITHDRAWN   \n",
       "\n",
       "                                       EMPLOYER_NAME  \\\n",
       "0                             UNIVERSITY OF MICHIGAN   \n",
       "1                             GOODMAN NETWORKS, INC.   \n",
       "2                          PORTS AMERICA GROUP, INC.   \n",
       "3  GATES CORPORATION, A WHOLLY-OWNED SUBSIDIARY O...   \n",
       "4                          PEABODY INVESTMENTS CORP.   \n",
       "\n",
       "                        SOC_NAME                     JOB_TITLE  \\\n",
       "0  BIOCHEMISTS AND BIOPHYSICISTS  POSTDOCTORAL RESEARCH FELLOW   \n",
       "1               CHIEF EXECUTIVES       CHIEF OPERATING OFFICER   \n",
       "2               CHIEF EXECUTIVES         CHIEF PROCESS OFFICER   \n",
       "3               CHIEF EXECUTIVES   REGIONAL PRESIDEN, AMERICAS   \n",
       "4               CHIEF EXECUTIVES  PRESIDENT MONGOLIA AND INDIA   \n",
       "\n",
       "  FULL_TIME_POSITION  PREVAILING_WAGE    YEAR                 WORKSITE  \\\n",
       "0                  N          36067.0  2016.0      ANN ARBOR, MICHIGAN   \n",
       "1                  Y         242674.0  2016.0             PLANO, TEXAS   \n",
       "2                  Y         193066.0  2016.0  JERSEY CITY, NEW JERSEY   \n",
       "3                  Y         220314.0  2016.0         DENVER, COLORADO   \n",
       "4                  Y         157518.4  2016.0      ST. LOUIS, MISSOURI   \n",
       "\n",
       "          lon        lat  \n",
       "0  -83.743038  42.280826  \n",
       "1  -96.698886  33.019843  \n",
       "2  -74.077642  40.728158  \n",
       "3 -104.990251  39.739236  \n",
       "4  -90.199404  38.627003  "
      ]
     },
     "execution_count": 3,
     "metadata": {},
     "output_type": "execute_result"
    }
   ],
   "source": [
    "df.head()"
   ]
  },
  {
   "cell_type": "code",
   "execution_count": 4,
   "metadata": {},
   "outputs": [
    {
     "name": "stdout",
     "output_type": "stream",
     "text": [
      "<class 'pandas.core.frame.DataFrame'>\n",
      "RangeIndex: 3002458 entries, 0 to 3002457\n",
      "Data columns (total 11 columns):\n",
      " #   Column              Dtype  \n",
      "---  ------              -----  \n",
      " 0   Unnamed: 0          int64  \n",
      " 1   CASE_STATUS         object \n",
      " 2   EMPLOYER_NAME       object \n",
      " 3   SOC_NAME            object \n",
      " 4   JOB_TITLE           object \n",
      " 5   FULL_TIME_POSITION  object \n",
      " 6   PREVAILING_WAGE     float64\n",
      " 7   YEAR                float64\n",
      " 8   WORKSITE            object \n",
      " 9   lon                 float64\n",
      " 10  lat                 float64\n",
      "dtypes: float64(4), int64(1), object(6)\n",
      "memory usage: 252.0+ MB\n"
     ]
    }
   ],
   "source": [
    "df.info()"
   ]
  },
  {
   "cell_type": "code",
   "execution_count": 5,
   "metadata": {},
   "outputs": [
    {
     "data": {
      "text/plain": [
       "CERTIFIED                                             2615623\n",
       "CERTIFIED-WITHDRAWN                                    202659\n",
       "DENIED                                                  94346\n",
       "WITHDRAWN                                               89799\n",
       "PENDING QUALITY AND COMPLIANCE REVIEW - UNASSIGNED         15\n",
       "REJECTED                                                    2\n",
       "INVALIDATED                                                 1\n",
       "Name: CASE_STATUS, dtype: int64"
      ]
     },
     "execution_count": 5,
     "metadata": {},
     "output_type": "execute_result"
    }
   ],
   "source": [
    "df['CASE_STATUS'].value_counts()"
   ]
  },
  {
   "cell_type": "code",
   "execution_count": 6,
   "metadata": {},
   "outputs": [
    {
     "data": {
      "image/png": "[encoded data removed]",
      "text/plain": [
       "<Figure size 432x288 with 1 Axes>"
      ]
     },
     "metadata": {
      "needs_background": "light"
     },
     "output_type": "display_data"
    }
   ],
   "source": [
    "plt.figure\n",
    "Figsize=(10,7)\n",
    "df.CASE_STATUS.value_counts().plot(kind='barh', color=\"green\") \n",
    "df.sort_values('CASE_STATUS') \n",
    "plt.title(\"NUMBER OF APPLICATIONS\")  \n",
    "plt.show()"
   ]
  },
  {
   "cell_type": "code",
   "execution_count": 7,
   "metadata": {},
   "outputs": [
    {
     "data": {
      "image/png": "[encoded data removed]",
      "text/plain": [
       "<Figure size 432x288 with 1 Axes>"
      ]
     },
     "metadata": {
      "needs_background": "light"
     },
     "output_type": "display_data"
    }
   ],
   "source": [
    "plt.figure\n",
    "Figsize=(10,7)\n",
    "df.SOC_NAME.value_counts().plot(kind='barh', color='red') \n",
    "df.sort_values('SOC_NAME') \n",
    "#plt.title(\"NUMBER OF APPLICATIONS\")  \n",
    "plt.show()"
   ]
  },
  {
   "cell_type": "code",
   "execution_count": 8,
   "metadata": {},
   "outputs": [
    {
     "data": {
      "image/png": "[encoded data removed]",
      "text/plain": [
       "<Figure size 432x288 with 1 Axes>"
      ]
     },
     "metadata": {
      "needs_background": "light"
     },
     "output_type": "display_data"
    }
   ],
   "source": [
    "plt.figure\n",
    "Figsize=(10,7)\n",
    "df.FULL_TIME_POSITION.value_counts().plot(kind='barh', color='pink') \n",
    "df.sort_values('FULL_TIME_POSITION') \n",
    "#plt.title(\"NUMBER OF APPLICATIONS\")  \n",
    "plt.show()"
   ]
  },
  {
   "cell_type": "code",
   "execution_count": 9,
   "metadata": {},
   "outputs": [
    {
     "data": {
      "text/plain": [
       "Unnamed: 0                 0\n",
       "CASE_STATUS               13\n",
       "EMPLOYER_NAME             59\n",
       "SOC_NAME               17734\n",
       "JOB_TITLE                 43\n",
       "FULL_TIME_POSITION        15\n",
       "PREVAILING_WAGE           85\n",
       "YEAR                      13\n",
       "WORKSITE                   0\n",
       "lon                   107242\n",
       "lat                   107242\n",
       "dtype: int64"
      ]
     },
     "execution_count": 9,
     "metadata": {},
     "output_type": "execute_result"
    }
   ],
   "source": [
    "df.isnull().sum()"
   ]
  },
  {
   "cell_type": "code",
   "execution_count": 10,
   "metadata": {},
   "outputs": [],
   "source": [
    "df['SOC_NAME'].fillna('BIOCHEMISTS AND BIOPHYSICISTS', inplace = True)\n",
    "df['EMPLOYER_NAME'].fillna('PEABODY INVESTMENTS CORP.', inplace=True)\n",
    "df['CASE_STATUS'].fillna('WITHDRWAN', inplace=True)\n",
    "df['FULL_TIME_POSITION'].fillna('Y',inplace=True)\n",
    "df['PREVAILING_WAGE'].fillna('210000.0' , inplace=True)\n",
    "df['YEAR'].fillna('2016.0',inplace=True)"
   ]
  },
  {
   "cell_type": "code",
   "execution_count": 11,
   "metadata": {},
   "outputs": [
    {
     "data": {
      "text/html": [
       "<div>\n",
       "<style scoped>\n",
       "    .dataframe tbody tr th:only-of-type {\n",
       "        vertical-align: middle;\n",
       "    }\n",
       "\n",
       "    .dataframe tbody tr th {\n",
       "        vertical-align: top;\n",
       "    }\n",
       "\n",
       "    .dataframe thead th {\n",
       "        text-align: right;\n",
       "    }\n",
       "</style>\n",
       "<table border=\"1\" class=\"dataframe\">\n",
       "  <thead>\n",
       "    <tr style=\"text-align: right;\">\n",
       "      <th></th>\n",
       "      <th>Unnamed: 0</th>\n",
       "      <th>CASE_STATUS</th>\n",
       "      <th>EMPLOYER_NAME</th>\n",
       "      <th>SOC_NAME</th>\n",
       "      <th>JOB_TITLE</th>\n",
       "      <th>FULL_TIME_POSITION</th>\n",
       "      <th>PREVAILING_WAGE</th>\n",
       "      <th>YEAR</th>\n",
       "      <th>WORKSITE</th>\n",
       "      <th>lon</th>\n",
       "      <th>lat</th>\n",
       "    </tr>\n",
       "  </thead>\n",
       "  <tbody>\n",
       "    <tr>\n",
       "      <th>0</th>\n",
       "      <td>1</td>\n",
       "      <td>CERTIFIED-WITHDRAWN</td>\n",
       "      <td>UNIVERSITY OF MICHIGAN</td>\n",
       "      <td>BIOCHEMISTS AND BIOPHYSICISTS</td>\n",
       "      <td>POSTDOCTORAL RESEARCH FELLOW</td>\n",
       "      <td>N</td>\n",
       "      <td>36067.0</td>\n",
       "      <td>2016.0</td>\n",
       "      <td>ANN ARBOR, MICHIGAN</td>\n",
       "      <td>-83.743038</td>\n",
       "      <td>42.280826</td>\n",
       "    </tr>\n",
       "    <tr>\n",
       "      <th>1</th>\n",
       "      <td>2</td>\n",
       "      <td>CERTIFIED-WITHDRAWN</td>\n",
       "      <td>GOODMAN NETWORKS, INC.</td>\n",
       "      <td>CHIEF EXECUTIVES</td>\n",
       "      <td>CHIEF OPERATING OFFICER</td>\n",
       "      <td>Y</td>\n",
       "      <td>242674.0</td>\n",
       "      <td>2016.0</td>\n",
       "      <td>PLANO, TEXAS</td>\n",
       "      <td>-96.698886</td>\n",
       "      <td>33.019843</td>\n",
       "    </tr>\n",
       "    <tr>\n",
       "      <th>2</th>\n",
       "      <td>3</td>\n",
       "      <td>CERTIFIED-WITHDRAWN</td>\n",
       "      <td>PORTS AMERICA GROUP, INC.</td>\n",
       "      <td>CHIEF EXECUTIVES</td>\n",
       "      <td>CHIEF PROCESS OFFICER</td>\n",
       "      <td>Y</td>\n",
       "      <td>193066.0</td>\n",
       "      <td>2016.0</td>\n",
       "      <td>JERSEY CITY, NEW JERSEY</td>\n",
       "      <td>-74.077642</td>\n",
       "      <td>40.728158</td>\n",
       "    </tr>\n",
       "    <tr>\n",
       "      <th>3</th>\n",
       "      <td>4</td>\n",
       "      <td>CERTIFIED-WITHDRAWN</td>\n",
       "      <td>GATES CORPORATION, A WHOLLY-OWNED SUBSIDIARY O...</td>\n",
       "      <td>CHIEF EXECUTIVES</td>\n",
       "      <td>REGIONAL PRESIDEN, AMERICAS</td>\n",
       "      <td>Y</td>\n",
       "      <td>220314.0</td>\n",
       "      <td>2016.0</td>\n",
       "      <td>DENVER, COLORADO</td>\n",
       "      <td>-104.990251</td>\n",
       "      <td>39.739236</td>\n",
       "    </tr>\n",
       "    <tr>\n",
       "      <th>4</th>\n",
       "      <td>5</td>\n",
       "      <td>WITHDRAWN</td>\n",
       "      <td>PEABODY INVESTMENTS CORP.</td>\n",
       "      <td>CHIEF EXECUTIVES</td>\n",
       "      <td>PRESIDENT MONGOLIA AND INDIA</td>\n",
       "      <td>Y</td>\n",
       "      <td>157518.4</td>\n",
       "      <td>2016.0</td>\n",
       "      <td>ST. LOUIS, MISSOURI</td>\n",
       "      <td>-90.199404</td>\n",
       "      <td>38.627003</td>\n",
       "    </tr>\n",
       "    <tr>\n",
       "      <th>...</th>\n",
       "      <td>...</td>\n",
       "      <td>...</td>\n",
       "      <td>...</td>\n",
       "      <td>...</td>\n",
       "      <td>...</td>\n",
       "      <td>...</td>\n",
       "      <td>...</td>\n",
       "      <td>...</td>\n",
       "      <td>...</td>\n",
       "      <td>...</td>\n",
       "      <td>...</td>\n",
       "    </tr>\n",
       "    <tr>\n",
       "      <th>3002453</th>\n",
       "      <td>3002454</td>\n",
       "      <td>WITHDRWAN</td>\n",
       "      <td>PEABODY INVESTMENTS CORP.</td>\n",
       "      <td>BIOCHEMISTS AND BIOPHYSICISTS</td>\n",
       "      <td>NaN</td>\n",
       "      <td>Y</td>\n",
       "      <td>210000.0</td>\n",
       "      <td>2016.0</td>\n",
       "      <td>NYC, NEW YORK</td>\n",
       "      <td>-74.005941</td>\n",
       "      <td>40.712784</td>\n",
       "    </tr>\n",
       "    <tr>\n",
       "      <th>3002454</th>\n",
       "      <td>3002455</td>\n",
       "      <td>WITHDRWAN</td>\n",
       "      <td>PEABODY INVESTMENTS CORP.</td>\n",
       "      <td>BIOCHEMISTS AND BIOPHYSICISTS</td>\n",
       "      <td>NaN</td>\n",
       "      <td>Y</td>\n",
       "      <td>210000.0</td>\n",
       "      <td>2016.0</td>\n",
       "      <td>SOUTH LAKE, TEXAS</td>\n",
       "      <td>-97.134178</td>\n",
       "      <td>32.941236</td>\n",
       "    </tr>\n",
       "    <tr>\n",
       "      <th>3002455</th>\n",
       "      <td>3002456</td>\n",
       "      <td>WITHDRWAN</td>\n",
       "      <td>PEABODY INVESTMENTS CORP.</td>\n",
       "      <td>BIOCHEMISTS AND BIOPHYSICISTS</td>\n",
       "      <td>NaN</td>\n",
       "      <td>Y</td>\n",
       "      <td>210000.0</td>\n",
       "      <td>2016.0</td>\n",
       "      <td>CLINTON, NEW JERSEY</td>\n",
       "      <td>-74.909890</td>\n",
       "      <td>40.636768</td>\n",
       "    </tr>\n",
       "    <tr>\n",
       "      <th>3002456</th>\n",
       "      <td>3002457</td>\n",
       "      <td>WITHDRWAN</td>\n",
       "      <td>PEABODY INVESTMENTS CORP.</td>\n",
       "      <td>BIOCHEMISTS AND BIOPHYSICISTS</td>\n",
       "      <td>NaN</td>\n",
       "      <td>Y</td>\n",
       "      <td>210000.0</td>\n",
       "      <td>2016.0</td>\n",
       "      <td>OWINGS MILL, MARYLAND</td>\n",
       "      <td>-76.780253</td>\n",
       "      <td>39.419550</td>\n",
       "    </tr>\n",
       "    <tr>\n",
       "      <th>3002457</th>\n",
       "      <td>3002458</td>\n",
       "      <td>WITHDRWAN</td>\n",
       "      <td>PEABODY INVESTMENTS CORP.</td>\n",
       "      <td>BIOCHEMISTS AND BIOPHYSICISTS</td>\n",
       "      <td>NaN</td>\n",
       "      <td>Y</td>\n",
       "      <td>210000.0</td>\n",
       "      <td>2016.0</td>\n",
       "      <td>ALTANTA, GEORGIA</td>\n",
       "      <td>-84.387982</td>\n",
       "      <td>33.748995</td>\n",
       "    </tr>\n",
       "  </tbody>\n",
       "</table>\n",
       "<p>3002458 rows × 11 columns</p>\n",
       "</div>"
      ],
      "text/plain": [
       "         Unnamed: 0          CASE_STATUS  \\\n",
       "0                 1  CERTIFIED-WITHDRAWN   \n",
       "1                 2  CERTIFIED-WITHDRAWN   \n",
       "2                 3  CERTIFIED-WITHDRAWN   \n",
       "3                 4  CERTIFIED-WITHDRAWN   \n",
       "4                 5            WITHDRAWN   \n",
       "...             ...                  ...   \n",
       "3002453     3002454            WITHDRWAN   \n",
       "3002454     3002455            WITHDRWAN   \n",
       "3002455     3002456            WITHDRWAN   \n",
       "3002456     3002457            WITHDRWAN   \n",
       "3002457     3002458            WITHDRWAN   \n",
       "\n",
       "                                             EMPLOYER_NAME  \\\n",
       "0                                   UNIVERSITY OF MICHIGAN   \n",
       "1                                   GOODMAN NETWORKS, INC.   \n",
       "2                                PORTS AMERICA GROUP, INC.   \n",
       "3        GATES CORPORATION, A WHOLLY-OWNED SUBSIDIARY O...   \n",
       "4                                PEABODY INVESTMENTS CORP.   \n",
       "...                                                    ...   \n",
       "3002453                          PEABODY INVESTMENTS CORP.   \n",
       "3002454                          PEABODY INVESTMENTS CORP.   \n",
       "3002455                          PEABODY INVESTMENTS CORP.   \n",
       "3002456                          PEABODY INVESTMENTS CORP.   \n",
       "3002457                          PEABODY INVESTMENTS CORP.   \n",
       "\n",
       "                              SOC_NAME                     JOB_TITLE  \\\n",
       "0        BIOCHEMISTS AND BIOPHYSICISTS  POSTDOCTORAL RESEARCH FELLOW   \n",
       "1                     CHIEF EXECUTIVES       CHIEF OPERATING OFFICER   \n",
       "2                     CHIEF EXECUTIVES         CHIEF PROCESS OFFICER   \n",
       "3                     CHIEF EXECUTIVES   REGIONAL PRESIDEN, AMERICAS   \n",
       "4                     CHIEF EXECUTIVES  PRESIDENT MONGOLIA AND INDIA   \n",
       "...                                ...                           ...   \n",
       "3002453  BIOCHEMISTS AND BIOPHYSICISTS                           NaN   \n",
       "3002454  BIOCHEMISTS AND BIOPHYSICISTS                           NaN   \n",
       "3002455  BIOCHEMISTS AND BIOPHYSICISTS                           NaN   \n",
       "3002456  BIOCHEMISTS AND BIOPHYSICISTS                           NaN   \n",
       "3002457  BIOCHEMISTS AND BIOPHYSICISTS                           NaN   \n",
       "\n",
       "        FULL_TIME_POSITION PREVAILING_WAGE    YEAR                 WORKSITE  \\\n",
       "0                        N         36067.0  2016.0      ANN ARBOR, MICHIGAN   \n",
       "1                        Y        242674.0  2016.0             PLANO, TEXAS   \n",
       "2                        Y        193066.0  2016.0  JERSEY CITY, NEW JERSEY   \n",
       "3                        Y        220314.0  2016.0         DENVER, COLORADO   \n",
       "4                        Y        157518.4  2016.0      ST. LOUIS, MISSOURI   \n",
       "...                    ...             ...     ...                      ...   \n",
       "3002453                  Y        210000.0  2016.0            NYC, NEW YORK   \n",
       "3002454                  Y        210000.0  2016.0        SOUTH LAKE, TEXAS   \n",
       "3002455                  Y        210000.0  2016.0      CLINTON, NEW JERSEY   \n",
       "3002456                  Y        210000.0  2016.0    OWINGS MILL, MARYLAND   \n",
       "3002457                  Y        210000.0  2016.0         ALTANTA, GEORGIA   \n",
       "\n",
       "                lon        lat  \n",
       "0        -83.743038  42.280826  \n",
       "1        -96.698886  33.019843  \n",
       "2        -74.077642  40.728158  \n",
       "3       -104.990251  39.739236  \n",
       "4        -90.199404  38.627003  \n",
       "...             ...        ...  \n",
       "3002453  -74.005941  40.712784  \n",
       "3002454  -97.134178  32.941236  \n",
       "3002455  -74.909890  40.636768  \n",
       "3002456  -76.780253  39.419550  \n",
       "3002457  -84.387982  33.748995  \n",
       "\n",
       "[3002458 rows x 11 columns]"
      ]
     },
     "execution_count": 11,
     "metadata": {},
     "output_type": "execute_result"
    }
   ],
   "source": [
    "df"
   ]
  },
  {
   "cell_type": "code",
   "execution_count": 12,
   "metadata": {},
   "outputs": [
    {
     "data": {
      "text/plain": [
       "array([1, 6, 0, 2, 5, 3, 4, 7])"
      ]
     },
     "execution_count": 12,
     "metadata": {},
     "output_type": "execute_result"
    }
   ],
   "source": [
    "from sklearn import preprocessing\n",
    "  \n",
    "# label_encoder object knows how to understand word labels.\n",
    "label_encoder = preprocessing.LabelEncoder()\n",
    "  \n",
    "# Encode labels in column 'species'.\n",
    "df['CASE_STATUS']= label_encoder.fit_transform(df['CASE_STATUS'])\n",
    "  \n",
    "df['CASE_STATUS'].unique()"
   ]
  },
  {
   "cell_type": "code",
   "execution_count": 13,
   "metadata": {},
   "outputs": [
    {
     "data": {
      "text/plain": [
       "array([0, 1])"
      ]
     },
     "execution_count": 13,
     "metadata": {},
     "output_type": "execute_result"
    }
   ],
   "source": [
    "from sklearn import preprocessing\n",
    "  \n",
    "# label_encoder object knows how to understand word labels.\n",
    "label_encoder = preprocessing.LabelEncoder()\n",
    "  \n",
    "# Encode labels in column 'species'.\n",
    "df['FULL_TIME_POSITION']= label_encoder.fit_transform(df['FULL_TIME_POSITION'])\n",
    "  \n",
    "df['FULL_TIME_POSITION'].unique()"
   ]
  },
  {
   "cell_type": "code",
   "execution_count": 14,
   "metadata": {},
   "outputs": [
    {
     "data": {
      "text/plain": [
       "array([ 168,  256,  830, ..., 2086,  800,  737])"
      ]
     },
     "execution_count": 14,
     "metadata": {},
     "output_type": "execute_result"
    }
   ],
   "source": [
    "# Encode labels in column 'species'.\n",
    "df['SOC_NAME']= label_encoder.fit_transform(df['SOC_NAME'])\n",
    "  \n",
    "df['SOC_NAME'].unique()"
   ]
  },
  {
   "cell_type": "code",
   "execution_count": 15,
   "metadata": {},
   "outputs": [],
   "source": [
    "df.drop(['EMPLOYER_NAME','JOB_TITLE','WORKSITE','lon','lat'], axis=1, inplace=True)\n"
   ]
  },
  {
   "cell_type": "code",
   "execution_count": 16,
   "metadata": {},
   "outputs": [
    {
     "data": {
      "text/html": [
       "<div>\n",
       "<style scoped>\n",
       "    .dataframe tbody tr th:only-of-type {\n",
       "        vertical-align: middle;\n",
       "    }\n",
       "\n",
       "    .dataframe tbody tr th {\n",
       "        vertical-align: top;\n",
       "    }\n",
       "\n",
       "    .dataframe thead th {\n",
       "        text-align: right;\n",
       "    }\n",
       "</style>\n",
       "<table border=\"1\" class=\"dataframe\">\n",
       "  <thead>\n",
       "    <tr style=\"text-align: right;\">\n",
       "      <th></th>\n",
       "      <th>Unnamed: 0</th>\n",
       "      <th>CASE_STATUS</th>\n",
       "      <th>SOC_NAME</th>\n",
       "      <th>FULL_TIME_POSITION</th>\n",
       "      <th>PREVAILING_WAGE</th>\n",
       "      <th>YEAR</th>\n",
       "    </tr>\n",
       "  </thead>\n",
       "  <tbody>\n",
       "    <tr>\n",
       "      <th>0</th>\n",
       "      <td>1</td>\n",
       "      <td>1</td>\n",
       "      <td>168</td>\n",
       "      <td>0</td>\n",
       "      <td>36067.0</td>\n",
       "      <td>2016.0</td>\n",
       "    </tr>\n",
       "    <tr>\n",
       "      <th>1</th>\n",
       "      <td>2</td>\n",
       "      <td>1</td>\n",
       "      <td>256</td>\n",
       "      <td>1</td>\n",
       "      <td>242674.0</td>\n",
       "      <td>2016.0</td>\n",
       "    </tr>\n",
       "    <tr>\n",
       "      <th>2</th>\n",
       "      <td>3</td>\n",
       "      <td>1</td>\n",
       "      <td>256</td>\n",
       "      <td>1</td>\n",
       "      <td>193066.0</td>\n",
       "      <td>2016.0</td>\n",
       "    </tr>\n",
       "    <tr>\n",
       "      <th>3</th>\n",
       "      <td>4</td>\n",
       "      <td>1</td>\n",
       "      <td>256</td>\n",
       "      <td>1</td>\n",
       "      <td>220314.0</td>\n",
       "      <td>2016.0</td>\n",
       "    </tr>\n",
       "    <tr>\n",
       "      <th>4</th>\n",
       "      <td>5</td>\n",
       "      <td>6</td>\n",
       "      <td>256</td>\n",
       "      <td>1</td>\n",
       "      <td>157518.4</td>\n",
       "      <td>2016.0</td>\n",
       "    </tr>\n",
       "    <tr>\n",
       "      <th>...</th>\n",
       "      <td>...</td>\n",
       "      <td>...</td>\n",
       "      <td>...</td>\n",
       "      <td>...</td>\n",
       "      <td>...</td>\n",
       "      <td>...</td>\n",
       "    </tr>\n",
       "    <tr>\n",
       "      <th>3002453</th>\n",
       "      <td>3002454</td>\n",
       "      <td>7</td>\n",
       "      <td>168</td>\n",
       "      <td>1</td>\n",
       "      <td>210000.0</td>\n",
       "      <td>2016.0</td>\n",
       "    </tr>\n",
       "    <tr>\n",
       "      <th>3002454</th>\n",
       "      <td>3002455</td>\n",
       "      <td>7</td>\n",
       "      <td>168</td>\n",
       "      <td>1</td>\n",
       "      <td>210000.0</td>\n",
       "      <td>2016.0</td>\n",
       "    </tr>\n",
       "    <tr>\n",
       "      <th>3002455</th>\n",
       "      <td>3002456</td>\n",
       "      <td>7</td>\n",
       "      <td>168</td>\n",
       "      <td>1</td>\n",
       "      <td>210000.0</td>\n",
       "      <td>2016.0</td>\n",
       "    </tr>\n",
       "    <tr>\n",
       "      <th>3002456</th>\n",
       "      <td>3002457</td>\n",
       "      <td>7</td>\n",
       "      <td>168</td>\n",
       "      <td>1</td>\n",
       "      <td>210000.0</td>\n",
       "      <td>2016.0</td>\n",
       "    </tr>\n",
       "    <tr>\n",
       "      <th>3002457</th>\n",
       "      <td>3002458</td>\n",
       "      <td>7</td>\n",
       "      <td>168</td>\n",
       "      <td>1</td>\n",
       "      <td>210000.0</td>\n",
       "      <td>2016.0</td>\n",
       "    </tr>\n",
       "  </tbody>\n",
       "</table>\n",
       "<p>3002458 rows × 6 columns</p>\n",
       "</div>"
      ],
      "text/plain": [
       "         Unnamed: 0  CASE_STATUS  SOC_NAME  FULL_TIME_POSITION  \\\n",
       "0                 1            1       168                   0   \n",
       "1                 2            1       256                   1   \n",
       "2                 3            1       256                   1   \n",
       "3                 4            1       256                   1   \n",
       "4                 5            6       256                   1   \n",
       "...             ...          ...       ...                 ...   \n",
       "3002453     3002454            7       168                   1   \n",
       "3002454     3002455            7       168                   1   \n",
       "3002455     3002456            7       168                   1   \n",
       "3002456     3002457            7       168                   1   \n",
       "3002457     3002458            7       168                   1   \n",
       "\n",
       "        PREVAILING_WAGE    YEAR  \n",
       "0               36067.0  2016.0  \n",
       "1              242674.0  2016.0  \n",
       "2              193066.0  2016.0  \n",
       "3              220314.0  2016.0  \n",
       "4              157518.4  2016.0  \n",
       "...                 ...     ...  \n",
       "3002453        210000.0  2016.0  \n",
       "3002454        210000.0  2016.0  \n",
       "3002455        210000.0  2016.0  \n",
       "3002456        210000.0  2016.0  \n",
       "3002457        210000.0  2016.0  \n",
       "\n",
       "[3002458 rows x 6 columns]"
      ]
     },
     "execution_count": 16,
     "metadata": {},
     "output_type": "execute_result"
    }
   ],
   "source": [
    "df"
   ]
  },
  {
   "cell_type": "code",
   "execution_count": 17,
   "metadata": {},
   "outputs": [
    {
     "data": {
      "image/png": "[encoded data removed]",
      "text/plain": [
       "<Figure size 1080x720 with 2 Axes>"
      ]
     },
     "metadata": {
      "needs_background": "light"
     },
     "output_type": "display_data"
    }
   ],
   "source": [
    "import seaborn as sns\n",
    "list = [\"CASE_STATUS\",\"SOC_NAME\",\"FULL_TIME_POSITION\",\"PREVAILING_WAGE\",\"YEAR\"]\n",
    "plt.figure(figsize=(15,10))\n",
    "sns.heatmap(df[list].corr(), annot=True, fmt=\".2f\")\n",
    "plt.show()\n",
    "\n",
    "#Dependent variable- CASE_STATUS\n",
    "#Independent variables- FULL_TIME_POSITION, PREVAILING_WAGE, YEAR, SOC_N"
   ]
  },
  {
   "cell_type": "code",
   "execution_count": 18,
   "metadata": {},
   "outputs": [],
   "source": [
    "x = df.drop([\"CASE_STATUS\"], axis=1)\n",
    "y = df[\"CASE_STATUS\"]"
   ]
  },
  {
   "cell_type": "code",
   "execution_count": 19,
   "metadata": {},
   "outputs": [],
   "source": [
    "from sklearn.model_selection import train_test_split\n",
    "\n",
    "x_train, x_test, y_train, y_test = train_test_split(x, y, test_size=0.2)"
   ]
  },
  {
   "cell_type": "code",
   "execution_count": 20,
   "metadata": {},
   "outputs": [],
   "source": [
    "#feature Scaling  \n",
    "from sklearn.preprocessing import StandardScaler    \n",
    "st_x= StandardScaler()    \n",
    "x_train= st_x.fit_transform(x_train)    \n",
    "x_test= st_x.transform(x_test)    "
   ]
  },
  {
   "cell_type": "code",
   "execution_count": 21,
   "metadata": {},
   "outputs": [
    {
     "data": {
      "text/plain": [
       "RandomForestClassifier(criterion='entropy', n_estimators=10)"
      ]
     },
     "execution_count": 21,
     "metadata": {},
     "output_type": "execute_result"
    }
   ],
   "source": [
    "#Fitting Decision Tree classifier to the training set  \n",
    "from sklearn.ensemble import RandomForestClassifier  \n",
    "classifier= RandomForestClassifier(n_estimators= 10, criterion=\"entropy\")  \n",
    "classifier.fit(x_train, y_train)  "
   ]
  },
  {
   "cell_type": "code",
   "execution_count": 22,
   "metadata": {},
   "outputs": [],
   "source": [
    "#Predicting the test set result  \n",
    "y_pred= classifier.predict(x_test)  "
   ]
  },
  {
   "cell_type": "code",
   "execution_count": 23,
   "metadata": {},
   "outputs": [],
   "source": [
    "#Creating the Confusion matrix  \n",
    "from sklearn.metrics import confusion_matrix  \n",
    "cm= confusion_matrix(y_test, y_pred)  "
   ]
  },
  {
   "cell_type": "code",
   "execution_count": 24,
   "metadata": {},
   "outputs": [],
   "source": [
    "from sklearn.metrics import confusion_matrix,accuracy_score,roc_curve,classification_report"
   ]
  },
  {
   "cell_type": "code",
   "execution_count": 25,
   "metadata": {},
   "outputs": [
    {
     "data": {
      "text/plain": [
       "array([[507343,   7127,   4043,      0,   4229,      0],\n",
       "       [ 22032,  17321,    228,      1,    868,      0],\n",
       "       [ 16427,    330,   2087,      0,    297,      0],\n",
       "       [     2,      0,      0,      0,      0,      0],\n",
       "       [ 13932,   1860,    344,      0,   2018,      0],\n",
       "       [     0,      0,      0,      0,      0,      3]], dtype=int64)"
      ]
     },
     "execution_count": 25,
     "metadata": {},
     "output_type": "execute_result"
    }
   ],
   "source": [
    "cm"
   ]
  },
  {
   "cell_type": "code",
   "execution_count": 26,
   "metadata": {},
   "outputs": [
    {
     "data": {
      "text/plain": [
       "array([0, 0, 0, ..., 0, 0, 0])"
      ]
     },
     "execution_count": 26,
     "metadata": {},
     "output_type": "execute_result"
    }
   ],
   "source": [
    "y_pred"
   ]
  },
  {
   "cell_type": "code",
   "execution_count": 27,
   "metadata": {},
   "outputs": [
    {
     "data": {
      "text/plain": [
       "2286067    0\n",
       "1441128    0\n",
       "743272     0\n",
       "994841     0\n",
       "297987     0\n",
       "          ..\n",
       "476406     0\n",
       "379726     0\n",
       "2648837    0\n",
       "876463     0\n",
       "267203     0\n",
       "Name: CASE_STATUS, Length: 600492, dtype: int32"
      ]
     },
     "execution_count": 27,
     "metadata": {},
     "output_type": "execute_result"
    }
   ],
   "source": [
    "y_test"
   ]
  },
  {
   "cell_type": "code",
   "execution_count": 28,
   "metadata": {},
   "outputs": [
    {
     "name": "stdout",
     "output_type": "stream",
     "text": [
      "0.8805646036916395\n"
     ]
    }
   ],
   "source": [
    "print(accuracy_score(y_test, y_pred))"
   ]
  },
  {
   "cell_type": "code",
   "execution_count": 29,
   "metadata": {},
   "outputs": [],
   "source": [
    "import pickle"
   ]
  },
  {
   "cell_type": "code",
   "execution_count": 30,
   "metadata": {},
   "outputs": [],
   "source": [
    "df.to_pickle('my_df.pickle')\n",
    "\n",
    "del df"
   ]
  },
  {
   "cell_type": "code",
   "execution_count": 31,
   "metadata": {},
   "outputs": [
    {
     "data": {
      "text/html": [
       "<div>\n",
       "<style scoped>\n",
       "    .dataframe tbody tr th:only-of-type {\n",
       "        vertical-align: middle;\n",
       "    }\n",
       "\n",
       "    .dataframe tbody tr th {\n",
       "        vertical-align: top;\n",
       "    }\n",
       "\n",
       "    .dataframe thead th {\n",
       "        text-align: right;\n",
       "    }\n",
       "</style>\n",
       "<table border=\"1\" class=\"dataframe\">\n",
       "  <thead>\n",
       "    <tr style=\"text-align: right;\">\n",
       "      <th></th>\n",
       "      <th>Unnamed: 0</th>\n",
       "      <th>CASE_STATUS</th>\n",
       "      <th>SOC_NAME</th>\n",
       "      <th>FULL_TIME_POSITION</th>\n",
       "      <th>PREVAILING_WAGE</th>\n",
       "      <th>YEAR</th>\n",
       "    </tr>\n",
       "  </thead>\n",
       "  <tbody>\n",
       "    <tr>\n",
       "      <th>0</th>\n",
       "      <td>1</td>\n",
       "      <td>1</td>\n",
       "      <td>168</td>\n",
       "      <td>0</td>\n",
       "      <td>36067.0</td>\n",
       "      <td>2016.0</td>\n",
       "    </tr>\n",
       "    <tr>\n",
       "      <th>1</th>\n",
       "      <td>2</td>\n",
       "      <td>1</td>\n",
       "      <td>256</td>\n",
       "      <td>1</td>\n",
       "      <td>242674.0</td>\n",
       "      <td>2016.0</td>\n",
       "    </tr>\n",
       "    <tr>\n",
       "      <th>2</th>\n",
       "      <td>3</td>\n",
       "      <td>1</td>\n",
       "      <td>256</td>\n",
       "      <td>1</td>\n",
       "      <td>193066.0</td>\n",
       "      <td>2016.0</td>\n",
       "    </tr>\n",
       "    <tr>\n",
       "      <th>3</th>\n",
       "      <td>4</td>\n",
       "      <td>1</td>\n",
       "      <td>256</td>\n",
       "      <td>1</td>\n",
       "      <td>220314.0</td>\n",
       "      <td>2016.0</td>\n",
       "    </tr>\n",
       "    <tr>\n",
       "      <th>4</th>\n",
       "      <td>5</td>\n",
       "      <td>6</td>\n",
       "      <td>256</td>\n",
       "      <td>1</td>\n",
       "      <td>157518.4</td>\n",
       "      <td>2016.0</td>\n",
       "    </tr>\n",
       "    <tr>\n",
       "      <th>...</th>\n",
       "      <td>...</td>\n",
       "      <td>...</td>\n",
       "      <td>...</td>\n",
       "      <td>...</td>\n",
       "      <td>...</td>\n",
       "      <td>...</td>\n",
       "    </tr>\n",
       "    <tr>\n",
       "      <th>3002453</th>\n",
       "      <td>3002454</td>\n",
       "      <td>7</td>\n",
       "      <td>168</td>\n",
       "      <td>1</td>\n",
       "      <td>210000.0</td>\n",
       "      <td>2016.0</td>\n",
       "    </tr>\n",
       "    <tr>\n",
       "      <th>3002454</th>\n",
       "      <td>3002455</td>\n",
       "      <td>7</td>\n",
       "      <td>168</td>\n",
       "      <td>1</td>\n",
       "      <td>210000.0</td>\n",
       "      <td>2016.0</td>\n",
       "    </tr>\n",
       "    <tr>\n",
       "      <th>3002455</th>\n",
       "      <td>3002456</td>\n",
       "      <td>7</td>\n",
       "      <td>168</td>\n",
       "      <td>1</td>\n",
       "      <td>210000.0</td>\n",
       "      <td>2016.0</td>\n",
       "    </tr>\n",
       "    <tr>\n",
       "      <th>3002456</th>\n",
       "      <td>3002457</td>\n",
       "      <td>7</td>\n",
       "      <td>168</td>\n",
       "      <td>1</td>\n",
       "      <td>210000.0</td>\n",
       "      <td>2016.0</td>\n",
       "    </tr>\n",
       "    <tr>\n",
       "      <th>3002457</th>\n",
       "      <td>3002458</td>\n",
       "      <td>7</td>\n",
       "      <td>168</td>\n",
       "      <td>1</td>\n",
       "      <td>210000.0</td>\n",
       "      <td>2016.0</td>\n",
       "    </tr>\n",
       "  </tbody>\n",
       "</table>\n",
       "<p>3002458 rows × 6 columns</p>\n",
       "</div>"
      ],
      "text/plain": [
       "         Unnamed: 0  CASE_STATUS  SOC_NAME  FULL_TIME_POSITION  \\\n",
       "0                 1            1       168                   0   \n",
       "1                 2            1       256                   1   \n",
       "2                 3            1       256                   1   \n",
       "3                 4            1       256                   1   \n",
       "4                 5            6       256                   1   \n",
       "...             ...          ...       ...                 ...   \n",
       "3002453     3002454            7       168                   1   \n",
       "3002454     3002455            7       168                   1   \n",
       "3002455     3002456            7       168                   1   \n",
       "3002456     3002457            7       168                   1   \n",
       "3002457     3002458            7       168                   1   \n",
       "\n",
       "        PREVAILING_WAGE    YEAR  \n",
       "0               36067.0  2016.0  \n",
       "1              242674.0  2016.0  \n",
       "2              193066.0  2016.0  \n",
       "3              220314.0  2016.0  \n",
       "4              157518.4  2016.0  \n",
       "...                 ...     ...  \n",
       "3002453        210000.0  2016.0  \n",
       "3002454        210000.0  2016.0  \n",
       "3002455        210000.0  2016.0  \n",
       "3002456        210000.0  2016.0  \n",
       "3002457        210000.0  2016.0  \n",
       "\n",
       "[3002458 rows x 6 columns]"
      ]
     },
     "execution_count": 31,
     "metadata": {},
     "output_type": "execute_result"
    }
   ],
   "source": [
    "df2 = pd.read_pickle('my_df.pickle')\n",
    "\n",
    "df2"
   ]
  },
  {
   "cell_type": "code",
   "execution_count": null,
   "metadata": {},
   "outputs": [],
   "source": []
  }
 ],
 "metadata": {
  "kernelspec": {
   "display_name": "Python 3 (ipykernel)",
   "language": "python",
   "name": "python3"
  },
  "language_info": {
   "codemirror_mode": {
    "name": "ipython",
    "version": 3
   },
   "file_extension": ".py",
   "mimetype": "text/x-python",
   "name": "python",
   "nbconvert_exporter": "python",
   "pygments_lexer": "ipython3",
   "version": "3.9.7"
  }
 },
 "nbformat": 4,
 "nbformat_minor": 4
}
